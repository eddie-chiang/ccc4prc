{
 "metadata": {
  "language_info": {
   "codemirror_mode": {
    "name": "ipython",
    "version": 3
   },
   "file_extension": ".py",
   "mimetype": "text/x-python",
   "name": "python",
   "nbconvert_exporter": "python",
   "pygments_lexer": "ipython3",
   "version": "3.8.5-final"
  },
  "orig_nbformat": 2,
  "kernelspec": {
   "name": "python_defaultSpec_1599094036164",
   "display_name": "Python 3.8.5 64-bit ('.venv': venv)"
  }
 },
 "nbformat": 4,
 "nbformat_minor": 2,
 "cells": [
  {
   "cell_type": "markdown",
   "metadata": {},
   "source": [
    "# Loading the Dataset"
   ]
  },
  {
   "cell_type": "code",
   "execution_count": 1,
   "metadata": {},
   "outputs": [],
   "source": [
    "from array import array\n",
    "from pathlib import Path\n",
    "\n",
    "import confuse\n",
    "import pandas\n",
    "\n",
    "from classifier import DialogueActClassifierFactory\n",
    "from pandas import DataFrame\n",
    "from sklearn import metrics\n",
    "\n",
    "cfg = confuse.LazyConfig('ccc4prc', __name__)\n",
    "# Add overrides on top of config.yaml for the workspace.\n",
    "cfg.set_file('./config.workspace.yaml')\n",
    "\n",
    "dac_factory = DialogueActClassifierFactory()\n",
    "dac_labels = dac_factory.get_classifier(\n",
    "    Path(cfg['dialogue_act_classification']['classifier_file'].as_filename()),\n",
    "    cfg['dialogue_act_classification']['test_set_percentage'].as_number()).labels()\n",
    "\n",
    "dataset_dir = Path(cfg['machine_learning']['labeled_seed_excel_file'].as_filename()).parent\n",
    "training_dataset_file = dataset_dir / ('training_dataset.csv')\n",
    "test_dataset_file = dataset_dir / ('test_dataset.csv')\n",
    "\n",
    "training_dataset = pandas.read_csv(training_dataset_file)\n",
    "test_dataset = pandas.read_csv(test_dataset_file)\n",
    "\n",
    "FEATURES = ['body', 'dialogue_act_classification_ml', 'comment_is_by_author']\n",
    "LABEL = 'code_comprehension_related'\n",
    "\n",
    "entire_dataset = pandas.concat([training_dataset, test_dataset], axis=0).reset_index(drop=True)"
   ]
  },
  {
   "cell_type": "markdown",
   "metadata": {},
   "source": [
    "# Determine the Machine Learning Algorithm"
   ]
  },
  {
   "cell_type": "code",
   "execution_count": 2,
   "metadata": {
    "tags": []
   },
   "outputs": [],
   "source": [
    "from sklearn.compose import ColumnTransformer\n",
    "from sklearn.feature_extraction.text import TfidfVectorizer\n",
    "from sklearn.pipeline import Pipeline\n",
    "from sklearn.preprocessing import OneHotEncoder\n",
    "\n",
    "is_author_categories = [\n",
    "    False,  # 0 should come before 1 for numerical columns.\n",
    "    True\n",
    "]\n",
    "\n",
    "from nlp import LemmaTokenizer\n",
    "\n",
    "column_transformer = ColumnTransformer(\n",
    "    transformers=[\n",
    "        (\n",
    "            'body_tfidf_vectorizer',\n",
    "            TfidfVectorizer(tokenizer=LemmaTokenizer(), stop_words='english', ngram_range=(1, 2)),\n",
    "            'body'\n",
    "        ),\n",
    "        (\n",
    "            'dac_transformer',\n",
    "            OneHotEncoder(categories=[dac_labels]),\n",
    "            ['dialogue_act_classification_ml']\n",
    "        ),\n",
    "        (\n",
    "            'is_author_transformer',\n",
    "            OneHotEncoder(categories=[is_author_categories]),\n",
    "            ['comment_is_by_author']\n",
    "        ),\n",
    "    ],\n",
    "    transformer_weights={\n",
    "        'body_tfidf_vectorizer': 4,\n",
    "        'dac_transformer': 1,\n",
    "        'is_author_transformer': 2,\n",
    "    },\n",
    "    verbose=False)\n",
    "\n",
    "from sklearn.linear_model import LogisticRegression\n",
    "\n",
    "clf_logistic_regression = Pipeline(\n",
    "    steps=[\n",
    "        ('preprocessor', column_transformer),\n",
    "        ('classifier', LogisticRegression(C=500000, solver='lbfgs')),\n",
    "    ],\n",
    "    verbose=False)\n",
    "\n",
    "from sklearn.svm import SVC\n",
    "\n",
    "clf_svc = Pipeline(\n",
    "    steps=[\n",
    "        ('preprocessor', column_transformer),\n",
    "        ('classifier', SVC(kernel='linear', C=0.1, probability=True)),\n",
    "    ],\n",
    "    verbose=False)\n",
    "\n",
    "from sklearn.tree import DecisionTreeClassifier\n",
    "\n",
    "clf_decision_tree = Pipeline(\n",
    "    steps=[\n",
    "        ('preprocessor', column_transformer),\n",
    "        ('classifier', DecisionTreeClassifier())],\n",
    "    verbose=False)\n",
    "\n",
    "from sklearn.naive_bayes import MultinomialNB\n",
    "\n",
    "clf_multinominal_nb = Pipeline(\n",
    "    steps=[\n",
    "        ('preprocessor', column_transformer),\n",
    "        ('classifier', MultinomialNB(fit_prior=True))],\n",
    "    verbose=False)\n",
    "\n",
    "from sklearn.linear_model import SGDClassifier\n",
    "\n",
    "clf_sgd = Pipeline(\n",
    "    steps=[\n",
    "        ('preprocessor', column_transformer),\n",
    "        ('classifier', SGDClassifier())\n",
    "    ],\n",
    "    verbose=False)"
   ]
  },
  {
   "cell_type": "markdown",
   "metadata": {},
   "source": [
    "# Performance with splitting into Training and Test Dataset"
   ]
  },
  {
   "cell_type": "code",
   "execution_count": 3,
   "metadata": {
    "tags": []
   },
   "outputs": [
    {
     "output_type": "stream",
     "name": "stdout",
     "text": "precision    recall  f1-score   support\n\n          No  0.92879257 0.95238095 0.94043887       315\n         Yes  0.75806452 0.67142857 0.71212121        70\n\n    accuracy                      0.90129870       385\n   macro avg  0.84342854 0.81190476 0.82628004       385\nweighted avg  0.89775111 0.90129870 0.89892657       385\n\n"
    }
   ],
   "source": [
    "X_train = training_dataset[FEATURES]\n",
    "X_test = test_dataset[FEATURES]\n",
    "y_train = training_dataset[LABEL]\n",
    "y_true = test_dataset[LABEL]\n",
    "\n",
    "clf_logistic_regression.fit(X_train, y_train)\n",
    "y_pred = clf_logistic_regression.predict(X_test)\n",
    "\n",
    "print(metrics.classification_report(y_true, y_pred, digits=8))"
   ]
  },
  {
   "cell_type": "code",
   "execution_count": 4,
   "metadata": {
    "tags": []
   },
   "outputs": [
    {
     "output_type": "stream",
     "name": "stdout",
     "text": "precision    recall  f1-score   support\n\n          No  0.92834891 0.94603175 0.93710692       315\n         Yes  0.73437500 0.67142857 0.70149254        70\n\n    accuracy                      0.89610390       385\n   macro avg  0.83136195 0.80873016 0.81929973       385\nweighted avg  0.89308093 0.89610390 0.89426794       385\n\n"
    }
   ],
   "source": [
    "clf_svc.fit(X_train, y_train)\n",
    "y_pred = clf_svc.predict(X_test)\n",
    "\n",
    "print(metrics.classification_report(y_true, y_pred, digits=8))"
   ]
  },
  {
   "cell_type": "code",
   "execution_count": 5,
   "metadata": {
    "tags": []
   },
   "outputs": [
    {
     "output_type": "stream",
     "name": "stdout",
     "text": "precision    recall  f1-score   support\n\n          No  0.93114754 0.90158730 0.91612903       315\n         Yes  0.61250000 0.70000000 0.65333333        70\n\n    accuracy                      0.86493506       385\n   macro avg  0.77182377 0.80079365 0.78473118       385\nweighted avg  0.87321162 0.86493506 0.86834800       385\n\n"
    }
   ],
   "source": [
    "clf_decision_tree.fit(X_train, y_train)\n",
    "y_pred = clf_decision_tree.predict(X_test)\n",
    "\n",
    "print(metrics.classification_report(y_true, y_pred, digits=8))"
   ]
  },
  {
   "cell_type": "code",
   "execution_count": 6,
   "metadata": {
    "tags": []
   },
   "outputs": [
    {
     "output_type": "stream",
     "name": "stdout",
     "text": "precision    recall  f1-score   support\n\n          No  0.82198953 0.99682540 0.90100430       315\n         Yes  0.66666667 0.02857143 0.05479452        70\n\n    accuracy                      0.82077922       385\n   macro avg  0.74432810 0.51269841 0.47789941       385\nweighted avg  0.79374901 0.82077922 0.74714798       385\n\n"
    }
   ],
   "source": [
    "clf_multinominal_nb.fit(X_train, y_train)\n",
    "y_pred = clf_multinominal_nb.predict(X_test)\n",
    "\n",
    "print(metrics.classification_report(y_true, y_pred, digits=8))"
   ]
  },
  {
   "cell_type": "code",
   "execution_count": 7,
   "metadata": {
    "tags": []
   },
   "outputs": [
    {
     "output_type": "stream",
     "name": "stdout",
     "text": "precision    recall  f1-score   support\n\n          No  0.90214067 0.93650794 0.91900312       315\n         Yes  0.65517241 0.54285714 0.59375000        70\n\n    accuracy                      0.86493506       385\n   macro avg  0.77865654 0.73968254 0.75637656       385\nweighted avg  0.85723735 0.86493506 0.85986619       385\n\n"
    }
   ],
   "source": [
    "clf_sgd.fit(X_train, y_train)\n",
    "y_pred = clf_sgd.predict(X_test)\n",
    "\n",
    "print(metrics.classification_report(y_true, y_pred, digits=8))"
   ]
  },
  {
   "cell_type": "markdown",
   "metadata": {},
   "source": [
    "# Performance with an Entire Dataset and K-folds Cross-Validation"
   ]
  },
  {
   "cell_type": "code",
   "execution_count": 8,
   "metadata": {
    "tags": []
   },
   "outputs": [],
   "source": [
    "X = entire_dataset[FEATURES]\n",
    "y = entire_dataset[LABEL]\n",
    "\n",
    "from sklearn.model_selection import cross_val_score, cross_val_predict\n",
    "\n",
    "yes_f1_scorer = metrics.make_scorer(metrics.f1_score, pos_label=\"Yes\")"
   ]
  },
  {
   "cell_type": "markdown",
   "metadata": {},
   "source": [
    "# cross_val_score"
   ]
  },
  {
   "cell_type": "code",
   "execution_count": 9,
   "metadata": {
    "tags": []
   },
   "outputs": [
    {
     "output_type": "stream",
     "name": "stdout",
     "text": "[0.53846154 0.44444444 0.5        0.61538462 0.74193548]\nMin: 0.4444444444444445, Mean: 0.5680452164323132, Max: 0.7419354838709677\n"
    }
   ],
   "source": [
    "scores = cross_val_score(clf_logistic_regression, X, y, cv=5, scoring=yes_f1_scorer, n_jobs=-1)\n",
    "print(scores)\n",
    "scores = pandas.Series(scores)\n",
    "print(f'Min: {scores.min()}, Mean: {scores.mean()}, Max: {scores.max()}')"
   ]
  },
  {
   "cell_type": "code",
   "execution_count": 10,
   "metadata": {
    "tags": []
   },
   "outputs": [
    {
     "output_type": "stream",
     "name": "stdout",
     "text": "[0.52830189 0.41860465 0.59649123 0.62745098 0.73015873]\nMin: 0.4186046511627907, Mean: 0.5802014953152612, Max: 0.7301587301587301\n"
    }
   ],
   "source": [
    "scores = cross_val_score(clf_svc, X, y, cv=5, scoring=yes_f1_scorer, n_jobs=-1)\n",
    "print(scores)\n",
    "scores = pandas.Series(scores)\n",
    "print(f'Min: {scores.min()}, Mean: {scores.mean()}, Max: {scores.max()}')"
   ]
  },
  {
   "cell_type": "code",
   "execution_count": 11,
   "metadata": {
    "tags": []
   },
   "outputs": [
    {
     "output_type": "error",
     "ename": "SyntaxError",
     "evalue": "invalid syntax (<ipython-input-11-1e69d8bd8a39>, line 1)",
     "traceback": [
      "\u001b[0;36m  File \u001b[0;32m\"<ipython-input-11-1e69d8bd8a39>\"\u001b[0;36m, line \u001b[0;32m1\u001b[0m\n\u001b[0;31m    scores = cross_val_score(clf_decision_tree X, y, cv=5, scoring=yes_f1_scorer, n_jobs=-1)\u001b[0m\n\u001b[0m                                               ^\u001b[0m\n\u001b[0;31mSyntaxError\u001b[0m\u001b[0;31m:\u001b[0m invalid syntax\n"
     ]
    }
   ],
   "source": [
    "scores = cross_val_score(clf_decision_tree X, y, cv=5, scoring=yes_f1_scorer, n_jobs=-1)\n",
    "print(scores)\n",
    "scores = pandas.Series(scores)\n",
    "print(f'Min: {scores.min()}, Mean: {scores.mean()}, Max: {scores.max()}')"
   ]
  },
  {
   "cell_type": "code",
   "execution_count": 12,
   "metadata": {
    "tags": []
   },
   "outputs": [
    {
     "output_type": "stream",
     "name": "stdout",
     "text": "[0.06451613 0.12903226 0.06666667 0.12903226 0.12903226]\nMin: 0.06451612903225806, Mean: 0.10365591397849463, Max: 0.12903225806451613\n"
    }
   ],
   "source": [
    "scores = cross_val_score(clf_multinominal_nb, X, y, cv=5, scoring=yes_f1_scorer, n_jobs=-1)\n",
    "print(scores)\n",
    "scores = pandas.Series(scores)\n",
    "print(f'Min: {scores.min()}, Mean: {scores.mean()}, Max: {scores.max()}')"
   ]
  },
  {
   "cell_type": "code",
   "execution_count": 13,
   "metadata": {
    "tags": []
   },
   "outputs": [
    {
     "output_type": "stream",
     "name": "stdout",
     "text": "[0.57692308 0.48979592 0.5        0.68965517 0.73684211]\nMin: 0.4897959183673469, Mean: 0.598643254593475, Max: 0.736842105263158\n"
    }
   ],
   "source": [
    "scores = cross_val_score(clf_sgd, X, y, cv=5, scoring=yes_f1_scorer, n_jobs=-1)\n",
    "print(scores)\n",
    "scores = pandas.Series(scores)\n",
    "print(f'Min: {scores.min()}, Mean: {scores.mean()}, Max: {scores.max()}')"
   ]
  },
  {
   "cell_type": "markdown",
   "metadata": {},
   "source": [
    "# cross_val_predict"
   ]
  },
  {
   "cell_type": "code",
   "execution_count": 14,
   "metadata": {
    "tags": []
   },
   "outputs": [
    {
     "output_type": "stream",
     "name": "stdout",
     "text": "precision    recall  f1-score   support\n\n          No  0.89596273 0.92320000 0.90937746       625\n         Yes  0.61904762 0.53793103 0.57564576       145\n\n    accuracy                      0.85064935       770\n   macro avg  0.75750518 0.73056552 0.74251161       770\nweighted avg  0.84381638 0.85064935 0.84653188       770\n\n"
    }
   ],
   "source": [
    "y_pred = cross_val_predict(clf_logistic_regression, X, y, cv=5, n_jobs=-1)\n",
    "print(metrics.classification_report(y, y_pred, digits=8))"
   ]
  },
  {
   "cell_type": "code",
   "execution_count": 15,
   "metadata": {
    "tags": []
   },
   "outputs": [
    {
     "output_type": "stream",
     "name": "stdout",
     "text": "precision    recall  f1-score   support\n\n          No  0.89814815 0.93120000 0.91437549       625\n         Yes  0.64754098 0.54482759 0.59176030       145\n\n    accuracy                      0.85844156       770\n   macro avg  0.77284457 0.73801379 0.75306790       770\nweighted avg  0.85095589 0.85844156 0.85362328       770\n\n"
    }
   ],
   "source": [
    "y_pred = cross_val_predict(clf_svc, X, y, cv=5, n_jobs=-1)\n",
    "print(metrics.classification_report(y, y_pred, digits=8))"
   ]
  },
  {
   "cell_type": "code",
   "execution_count": 16,
   "metadata": {
    "tags": []
   },
   "outputs": [
    {
     "output_type": "stream",
     "name": "stdout",
     "text": "precision    recall  f1-score   support\n\n          No  0.88593750 0.90720000 0.89644269       625\n         Yes  0.55384615 0.49655172 0.52363636       145\n\n    accuracy                      0.82987013       770\n   macro avg  0.71989183 0.70187586 0.71003953       770\nweighted avg  0.82340082 0.82987013 0.82623890       770\n\n"
    }
   ],
   "source": [
    "y_pred = cross_val_predict(clf_decision_tree, X, y, cv=5, n_jobs=-1)\n",
    "print(metrics.classification_report(y, y_pred, digits=8))"
   ]
  },
  {
   "cell_type": "code",
   "execution_count": 17,
   "metadata": {
    "tags": []
   },
   "outputs": [
    {
     "output_type": "stream",
     "name": "stdout",
     "text": "precision    recall  f1-score   support\n\n          No  0.81997372 0.99840000 0.90043290       625\n         Yes  0.88888889 0.05517241 0.10389610       145\n\n    accuracy                      0.82077922       770\n   macro avg  0.85443130 0.52678621 0.50216450       770\nweighted avg  0.83295125 0.82077922 0.75043571       770\n\n"
    }
   ],
   "source": [
    "y_pred = cross_val_predict(clf_multinominal_nb, X, y, cv=5, n_jobs=-1)\n",
    "print(metrics.classification_report(y, y_pred, digits=8))"
   ]
  },
  {
   "cell_type": "code",
   "execution_count": 18,
   "metadata": {
    "tags": []
   },
   "outputs": [
    {
     "output_type": "stream",
     "name": "stdout",
     "text": "precision    recall  f1-score   support\n\n          No  0.89531250 0.91680000 0.90592885       625\n         Yes  0.60000000 0.53793103 0.56727273       145\n\n    accuracy                      0.84545455       770\n   macro avg  0.74765625 0.72736552 0.73660079       770\nweighted avg  0.83970170 0.84545455 0.84215595       770\n\n"
    }
   ],
   "source": [
    "y_pred = cross_val_predict(clf_sgd, X, y, cv=5, n_jobs=-1)\n",
    "print(metrics.classification_report(y, y_pred, digits=8))"
   ]
  }
 ]
}