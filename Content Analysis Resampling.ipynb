{
 "metadata": {
  "language_info": {
   "codemirror_mode": {
    "name": "ipython",
    "version": 3
   },
   "file_extension": ".py",
   "mimetype": "text/x-python",
   "name": "python",
   "nbconvert_exporter": "python",
   "pygments_lexer": "ipython3",
   "version": "3.9.0-final"
  },
  "orig_nbformat": 2,
  "kernelspec": {
   "name": "python3",
   "display_name": "Python 3"
  }
 },
 "nbformat": 4,
 "nbformat_minor": 2,
 "cells": [
  {
   "cell_type": "code",
   "execution_count": null,
   "metadata": {},
   "outputs": [],
   "source": [
    "from classifier import DialogueActClassifierFactory\n",
    "from joblib import load\n",
    "from pandas import DataFrame, option_context, read_csv\n",
    "from pathlib import Path\n",
    "\n",
    "pcc_clf = load('./models/program_comprehension_challenge_classifier.pickle') \n",
    "dac_factory = DialogueActClassifierFactory()\n",
    "dac_factory.get_classifier(classifier_file=Path('./models/dialogue_act_classifier.pickle'), test_set_percentage=10)\n",
    "\n",
    "test_dataset = read_csv('../master-of-engineering/Assets/BigQuery/test_dataset.csv')\n",
    "\n",
    "FEATURES = ['body', 'dialogue_act_classification_ml', 'comment_is_by_author']\n",
    "LABEL = 'program_comprehension_challenge'\n",
    "\n",
    "X_test = test_dataset[FEATURES]\n",
    "y_true = test_dataset[LABEL]"
   ]
  },
  {
   "cell_type": "code",
   "execution_count": null,
   "metadata": {},
   "outputs": [],
   "source": [
    "from sklearn import metrics\n",
    "\n",
    "y_pred = pcc_clf.predict(X_test)\n",
    "report = metrics.classification_report(y_true, y_pred, digits=8)\n",
    "print(report)"
   ]
  },
  {
   "cell_type": "code",
   "execution_count": null,
   "metadata": {},
   "outputs": [],
   "source": [
    "experiment_dataset = read_csv('/Volumes/RamDisk/results_20190503_1403_cleaned.csv')\n",
    "experiment_dataset_total_rows = experiment_dataset.shape[0]\n",
    "print(experiment_dataset_total_rows)"
   ]
  },
  {
   "cell_type": "code",
   "execution_count": null,
   "metadata": {},
   "outputs": [],
   "source": [
    "content_analysis_dataset = read_csv('../master-of-engineering/Assets/BigQuery/content_analysis_dataset.csv')\n",
    "indices_already_sampled = list(experiment_dataset.loc[experiment_dataset['comment_id'].isin(content_analysis_dataset['comment_id'])].index)\n",
    "print(indices_already_sampled)"
   ]
  },
  {
   "source": [
    "# Resample more rows due to inaccurate prediction"
   ],
   "cell_type": "markdown",
   "metadata": {}
  },
  {
   "cell_type": "code",
   "execution_count": null,
   "metadata": {
    "tags": []
   },
   "outputs": [],
   "source": [
    "from random import choice\n",
    "\n",
    "sample_size = 70\n",
    "experiment_dataset_range = range(0, experiment_dataset_total_rows)\n",
    "counter_yes = 0\n",
    "counter_total = 0\n",
    "while counter_yes < sample_size:\n",
    "    counter_total += 1\n",
    "    random_index = choice([i for i in experiment_dataset_range if i not in indices_already_sampled])\n",
    "    indices_already_sampled.append(random_index)\n",
    "    row = experiment_dataset.loc[random_index]\n",
    "    body = row['body']\n",
    "    comment_is_by_author = row['comment_is_by_author']\n",
    "    dialogue_act_classification = dac_factory.classify(body)\n",
    "    prediction = pcc_clf.predict(\n",
    "        DataFrame(\n",
    "            {\n",
    "                'body': [body], \n",
    "                'comment_is_by_author': [comment_is_by_author], \n",
    "                'dialogue_act_classification_ml': [dialogue_act_classification]\n",
    "            }))\n",
    "\n",
    "    if prediction[0] == 'Yes':\n",
    "        row['dialogue_act_classification_ml'] = dialogue_act_classification\n",
    "        row['topic_keywords'] = ''\n",
    "        row['program_comprehension_challenge'] = prediction[0]\n",
    "        row['problem_encountered'] = ''\n",
    "        content_analysis_dataset = content_analysis_dataset.append(row)\n",
    "        counter_yes += 1  \n",
    "\n",
    "    print(f'Counter (Total): {counter_total}, Counter (Yes): {counter_yes}, Size of already sampled: {len(indices_already_sampled)}, Random Index: {random_index}')\n",
    "\n",
    "content_analysis_dataset.to_csv('../master-of-engineering/Assets/BigQuery/content_analysis_dataset.csv', index=False, header=True, mode='w')"
   ]
  }
 ]
}