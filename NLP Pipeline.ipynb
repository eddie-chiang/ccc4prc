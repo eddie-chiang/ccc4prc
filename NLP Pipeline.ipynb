{
 "metadata": {
  "language_info": {
   "codemirror_mode": {
    "name": "ipython",
    "version": 3
   },
   "file_extension": ".py",
   "mimetype": "text/x-python",
   "name": "python",
   "nbconvert_exporter": "python",
   "pygments_lexer": "ipython3",
   "version": "3.9.0-final"
  },
  "orig_nbformat": 2,
  "kernelspec": {
   "name": "python3",
   "display_name": "Python 3"
  }
 },
 "nbformat": 4,
 "nbformat_minor": 2,
 "cells": [
  {
   "cell_type": "code",
   "execution_count": 57,
   "metadata": {},
   "outputs": [
    {
     "output_type": "stream",
     "name": "stdout",
     "text": [
      "{'patch': 14, 'applied': 9, ',': 0, 'line': 11, '40': 4, 'time': 18, '.': 2, 'understand': 20, 'property': 16, 'affect': 7, '?': 6, 'patch applied': 15, 'applied ,': 10, ', line': 1, 'line 40': 12, '40 time': 5, 'time .': 19, '. understand': 3, 'understand property': 21, 'property affect': 17, 'affect line': 8, 'line ?': 13}\n  (0, 14)\t1\n  (0, 9)\t1\n  (0, 0)\t1\n  (0, 11)\t2\n  (0, 4)\t1\n  (0, 18)\t1\n  (0, 2)\t1\n  (0, 20)\t1\n  (0, 16)\t1\n  (0, 7)\t1\n  (0, 6)\t1\n  (0, 15)\t1\n  (0, 10)\t1\n  (0, 1)\t1\n  (0, 12)\t1\n  (0, 5)\t1\n  (0, 19)\t1\n  (0, 3)\t1\n  (0, 21)\t1\n  (0, 17)\t1\n  (0, 8)\t1\n  (0, 13)\t1\n"
     ]
    }
   ],
   "source": [
    "from sklearn.feature_extraction.text import TfidfVectorizer, CountVectorizer\n",
    "from nlp import LemmaTokenizer\n",
    "\n",
    "review_comment = \"Without this patch applied, I see that line about 40 times. I also do not understand how these properties could affect that line?\"\n",
    "\n",
    "from nltk import word_tokenize\n",
    "from nltk.stem import WordNetLemmatizer\n",
    "\n",
    "review_comment = review_comment.lower()\n",
    "\n",
    "# print(review_comment)\n",
    "\n",
    "wnl = WordNetLemmatizer()\n",
    "tokens = [wnl.lemmatize(t) for t in word_tokenize(review_comment)]\n",
    "\n",
    "# print (word_tokenize(review_comment))\n",
    "# print(tokens)\n",
    "\n",
    "tdidf = TfidfVectorizer(tokenizer=LemmaTokenizer(), stop_words='english', ngram_range=(1, 2))\n",
    "tdidf = TfidfVectorizer(stop_words='english', ngram_range=(1, 2))\n",
    "# tdidf = TfidfVectorizer(stop_words='english')\n",
    "tdidf_result = tdidf.fit_transform([review_comment])\n",
    "\n",
    "# print(tdidf.get_feature_names())\n",
    "# print(tdidf_result)\n",
    "# print(tdidf_result.toarray())\n",
    "\n",
    "# print(tdidf_result.shape)\n",
    "# print(tdidf.vocabulary_)\n",
    "\n",
    "\n",
    "# for x in tdidf_result:\n",
    "#     print(x)\n",
    "#     for y in x:\n",
    "#         print(y)\n",
    "\n",
    "cv = CountVectorizer(tokenizer=LemmaTokenizer(), stop_words='english', ngram_range=(1, 2))\n",
    "cv_result = cv.fit_transform([review_comment])\n",
    "print(cv.vocabulary_)\n",
    "print(cv_result)"
   ]
  },
  {
   "cell_type": "code",
   "execution_count": null,
   "metadata": {},
   "outputs": [],
   "source": []
  }
 ]
}