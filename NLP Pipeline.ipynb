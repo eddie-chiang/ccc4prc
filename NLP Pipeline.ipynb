{
 "metadata": {
  "language_info": {
   "codemirror_mode": {
    "name": "ipython",
    "version": 3
   },
   "file_extension": ".py",
   "mimetype": "text/x-python",
   "name": "python",
   "nbconvert_exporter": "python",
   "pygments_lexer": "ipython3",
   "version": "3.9.0-final"
  },
  "orig_nbformat": 2,
  "kernelspec": {
   "name": "python3",
   "display_name": "Python 3"
  }
 },
 "nbformat": 4,
 "nbformat_minor": 2,
 "cells": [
  {
   "cell_type": "code",
   "execution_count": 58,
   "metadata": {},
   "outputs": [
    {
     "output_type": "stream",
     "name": "stdout",
     "text": [
      "['without', 'this', 'patch', 'appli', ',', 'i', 'see', 'that', 'line', 'about', '40', 'time', '.', 'i', 'also', 'do', 'not', 'understand', 'how', 'these', 'properti', 'could', 'affect', 'that', 'line', '?']\n"
     ]
    }
   ],
   "source": [
    "from sklearn.feature_extraction.text import TfidfVectorizer, CountVectorizer\n",
    "from nlp import LemmaTokenizer\n",
    "\n",
    "review_comment = \"Without this patch applied, I see that line about 40 times. I also do not understand how these properties could affect that line?\"\n",
    "\n",
    "from nltk import word_tokenize\n",
    "from nltk.stem import WordNetLemmatizer\n",
    "from nltk.stem.snowball import SnowballStemmer\n",
    "\n",
    "review_comment = review_comment.lower()\n",
    "\n",
    "# print(review_comment)\n",
    "\n",
    "wnl = WordNetLemmatizer()\n",
    "tokens = [wnl.lemmatize(t) for t in word_tokenize(review_comment)]\n",
    "\n",
    "sm = SnowballStemmer('english', ignore_stopwords=True)\n",
    "tokens = [sm.stem(t) for t in word_tokenize(review_comment)]\n",
    "# print (word_tokenize(review_comment))\n",
    "print(tokens)\n",
    "\n",
    "tdidf = TfidfVectorizer(tokenizer=LemmaTokenizer(), stop_words='english', ngram_range=(1, 2))\n",
    "tdidf = TfidfVectorizer(stop_words='english', ngram_range=(1, 2))\n",
    "# tdidf = TfidfVectorizer(stop_words='english')\n",
    "tdidf_result = tdidf.fit_transform([review_comment])\n",
    "\n",
    "# print(tdidf.get_feature_names())\n",
    "# print(tdidf_result)\n",
    "# print(tdidf_result.toarray())\n",
    "\n",
    "# print(tdidf_result.shape)\n",
    "# print(tdidf.vocabulary_)\n",
    "\n",
    "\n",
    "# for x in tdidf_result:\n",
    "#     print(x)\n",
    "#     for y in x:\n",
    "#         print(y)\n",
    "\n",
    "# cv = CountVectorizer(tokenizer=LemmaTokenizer(), stop_words='english', ngram_range=(1, 2))\n",
    "# cv_result = cv.fit_transform([review_comment])\n",
    "# print(cv.vocabulary_)\n",
    "# print(cv_result)"
   ]
  },
  {
   "cell_type": "code",
   "execution_count": null,
   "metadata": {},
   "outputs": [],
   "source": []
  }
 ]
}